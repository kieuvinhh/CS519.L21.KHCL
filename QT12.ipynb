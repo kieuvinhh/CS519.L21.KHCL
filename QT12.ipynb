{
 "cells": [
  {
   "cell_type": "markdown",
   "id": "aquatic-management",
   "metadata": {},
   "source": [
    "# Sử dụng Google Scholar trong tìm kiếm, quản lý các bài báo KH\n",
    "\n",
    "### 1. Một số mẹo tìm kiếm Google Scholar\n",
    "\n",
    "* Chèn năm: Nếu bạn muốn tìm tài liệu xuất bản trong 1 năm cụ thể, hãy chèn năm vào kế keyword hoặc trích dẫn nguyên văn."
   ]
  },
  {
   "cell_type": "markdown",
   "id": "sunset-survey",
   "metadata": {},
   "source": [
    "> `Ví dụ: Tourism and hospitality 2017 (Google Scholar sẽ hiện thị các tài liệu liên quan đến tourism và hospitality được xuất bản trong năm 2017)`"
   ]
  },
  {
   "cell_type": "markdown",
   "id": "comparative-craps",
   "metadata": {},
   "source": [
    "* Sử dụng keyword thay vì câu: Nhiều tác phẩm liên quan sẽ được hiển thị hơn khi tìm kiếm bằng keyword thay vì câu\n",
    "\n",
    "\n",
    "* Tìm kiếm cụ thể với trích dẫn nguyên văn: Hãy sử dụng dấu ngoặc kép xung quanh trích dẫn nguyên văn. Nếu không, **Google Scholar** sẽ không hiểu việc bạn đang muốn tìm tài liệu chứa đúng trích dẫn này. Thay vào đó, Google Scholar sẽ hiển thị tài liệu chứa các các từ trong trích dẫn nguyên văn này mà không nhất thiết phải ở cạnh nhau.\n",
    "\n",
    "\n",
    "* Sử dụng các thủ thuật để tối ưu hóa kết quả tìm kiếm **Google Scholar**\n",
    "\n",
    "\n",
    "* **Google Scholar** không nhận diện sự khác biệt giữa chứ viết hoa và viết thường. Việc tìm kiếm “tourism” và “Tourism” không có gì khác biệt.\n",
    "\n",
    "\n",
    "* Tận dụng các công cụ **Google Scholar**: Điều chỉnh kết quả tìm kiếm với các thanh công cụ bên tay trái như hạn chế kết quả bằng cách giới hạn số năm tìm kiếm, sắp xếp theo trình tự thời gian (từ gần nhất đến xa) hoặc mức độ liên quan với keyword tìm kiếm."
   ]
  },
  {
   "cell_type": "markdown",
   "id": "narrow-dynamics",
   "metadata": {},
   "source": [
    "### 2. Tối ưu hóa kết quả tìm kiếm trên Google Scholar\n",
    "\n",
    "#### 2.1. Tìm kiếm cụm từ trích dẫn:\n",
    "\n",
    "– Khi muốn tìm kiếm cụm từ trích dẫn trong tài liệu, hãy sử dụng dấu ngoặc kép “…” ."
   ]
  },
  {
   "cell_type": "markdown",
   "id": "comparable-starter",
   "metadata": {},
   "source": [
    "> ` Ví dụ: “love and hate” `"
   ]
  },
  {
   "cell_type": "markdown",
   "id": "silver-surface",
   "metadata": {},
   "source": [
    "– Kết quả tìm kiếm sẽ dẫn đến những tài liệu có cụm từ này thay vì tài liệu chứa cụm từ này trong title (tiêu đề)."
   ]
  },
  {
   "cell_type": "markdown",
   "id": "generic-psychology",
   "metadata": {},
   "source": [
    "#### 2.2. Tìm kiếm keyword có loại trừ:\n",
    "\n",
    "– Sử dụng dấu – ngay trước keyword bạn muốn loại trừ khỏi kết quả tìm kiếm."
   ]
  },
  {
   "cell_type": "markdown",
   "id": "horizontal-cattle",
   "metadata": {},
   "source": [
    "> `Ví dụ: Tourism -hospitality (lưu ý không để khoảng cách giữa dấu – và keyword phía sau)`"
   ]
  },
  {
   "cell_type": "markdown",
   "id": "mighty-decision",
   "metadata": {},
   "source": [
    "#### 2.3. Tìm kiếm thêm keyword:\n",
    "\n",
    "– Sử dụng dấu + trước keyword bạn muốn thêm vào tìm"
   ]
  },
  {
   "cell_type": "markdown",
   "id": "naval-houston",
   "metadata": {},
   "source": [
    "> ` Ví dụ: Tourism +hospitality (việc không để khoảng cách giữa dấu cộng và keyword không gây ảnh hưởng đến kết quả tìm kiếm như dấu – và keyword) `"
   ]
  },
  {
   "cell_type": "markdown",
   "id": "isolated-naples",
   "metadata": {},
   "source": [
    "#### 2.4. Tìm kiếm kết quả đồng thời từ 2 keyword:\n",
    "\n",
    "– Đây là tính năng tìm kiếm tài liệu cho đồng thời 2 keyword cùng lúc thay vì phải tìm kiếm lần lượt tìm kiếm từng keyword.\n",
    "\n",
    "\n",
    "– Thêm OR vào giữa 2 keyword và OR phải được viết hoa cả từ."
   ]
  },
  {
   "cell_type": "markdown",
   "id": "anonymous-graphic",
   "metadata": {},
   "source": [
    "> `Ví dụ: Tourism OR hospitality`"
   ]
  },
  {
   "cell_type": "markdown",
   "id": "young-nickel",
   "metadata": {},
   "source": [
    "#### 2.5. Tìm kiếm title chứa keyword\n",
    "\n",
    "– Để tìm title có chứa keyword bạn muốn, hãy tìm kiếm keyword theo cú pháp sau: “intitle: …”"
   ]
  },
  {
   "cell_type": "markdown",
   "id": "foreign-freedom",
   "metadata": {},
   "source": [
    "> `Ví dụ: intitle: Tourism`"
   ]
  },
  {
   "cell_type": "markdown",
   "id": "alike-activity",
   "metadata": {},
   "source": [
    "#### 2.6. Tìm kiếm tài liệu theo tên tác giả:\n",
    "\n",
    "– Sử dụng cú pháp “author: …” để tìm các tác phẩm của tác giả bạn nghiên cứu"
   ]
  },
  {
   "cell_type": "markdown",
   "id": "mobile-terror",
   "metadata": {},
   "source": [
    "> `Ví dụ: author: Colin Firth`"
   ]
  },
  {
   "cell_type": "markdown",
   "id": "changing-egyptian",
   "metadata": {},
   "source": [
    "[Đường link tham khảo](https://maas.vn/bat-mi-huong-dan-su-dung-google-scholar/)"
   ]
  },
  {
   "cell_type": "markdown",
   "id": "logical-standard",
   "metadata": {},
   "source": [
    "## Trích dẫn của Google Scholar\n",
    "\n",
    "* Trích dẫn của **Google Scholar** cung cấp cách đơn giản cho tác giả để theo dõi trích dẫn cho bài viết của họ, có thể kiểm tra người đang trích dẫn ấn phẩm của mình, đồ thị trích dẫn theo thời gian và tính nhiều số liệu trích dẫn; cũng có thể đặt tiểu sử của mình ở chế độ công khai để có thể xuất hiện trong kết quả của **Google Scholar** khi mọi người tìm kiếm tên của bạn."
   ]
  },
  {
   "cell_type": "code",
   "execution_count": null,
   "id": "perfect-columbus",
   "metadata": {},
   "outputs": [],
   "source": []
  }
 ],
 "metadata": {
  "kernelspec": {
   "display_name": "Python 3",
   "language": "python",
   "name": "python3"
  },
  "language_info": {
   "codemirror_mode": {
    "name": "ipython",
    "version": 3
   },
   "file_extension": ".py",
   "mimetype": "text/x-python",
   "name": "python",
   "nbconvert_exporter": "python",
   "pygments_lexer": "ipython3",
   "version": "3.8.5"
  }
 },
 "nbformat": 4,
 "nbformat_minor": 5
}
